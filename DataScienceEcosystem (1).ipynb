{
 "cells": [
  {
   "cell_type": "markdown",
   "id": "871dd96a-521d-48a4-b241-7141b09fdaec",
   "metadata": {},
   "source": [
    "# Data Science Tools and Ecosystem"
   ]
  },
  {
   "cell_type": "markdown",
   "id": "ffb95314-8da7-4cec-8daf-c1ff29d143b7",
   "metadata": {},
   "source": [
    "In this notebook, Data Science Tools and Ecosystems are summarized."
   ]
  },
  {
   "cell_type": "markdown",
   "id": "5646a664-3c0e-4572-9fff-75e61fded145",
   "metadata": {},
   "source": [
    "__Ojectives:__\n",
    "- List of popular Data Science Languages\n",
    "- List of popular Data Science Libraries\n",
    "- Simple arithmetic expression  "
   ]
  },
  {
   "cell_type": "markdown",
   "id": "254cec47-f4fc-4118-a344-6aeecb8d7efd",
   "metadata": {},
   "source": [
    "Some of the popular languages that Data Scientists use are:\n",
    "1. R \n",
    "2. Python\n",
    "3. SQL \n",
    "4. Scala \n",
    "5. Java \n",
    "6. Julia \n",
    "7. JavaScript\n"
   ]
  },
  {
   "cell_type": "markdown",
   "id": "c8d09345-2ac3-47bd-8f79-e4d92fe44af5",
   "metadata": {},
   "source": [
    "Some of the commonly used libraries used y Data Scientists include:\n",
    "1. Pandas \n",
    "2. NumPy\n",
    "3. PyTorch\n",
    "4. Keras \n",
    "5. TensorFlow\n",
    "6. SciPy\n",
    "7. Seaborn "
   ]
  },
  {
   "cell_type": "markdown",
   "id": "9d398358-f02b-46ac-bbbb-f2170bb84a9f",
   "metadata": {},
   "source": [
    "|Data Science Tools|\n",
    "|------------------|\n",
    "|Jupyter|\n",
    "|Spyder|\n",
    "|R Studio|"
   ]
  },
  {
   "cell_type": "markdown",
   "id": "8c1b2b08-38d4-48cf-8b1b-640eb401578d",
   "metadata": {},
   "source": [
    "### Below are a few examples of evaluating arithmetic expressions in Python"
   ]
  },
  {
   "cell_type": "code",
   "execution_count": 2,
   "id": "35aa519e-0931-45b2-a567-6df3a03df351",
   "metadata": {
    "tags": []
   },
   "outputs": [
    {
     "data": {
      "text/plain": [
       "17"
      ]
     },
     "execution_count": 2,
     "metadata": {},
     "output_type": "execute_result"
    }
   ],
   "source": [
    "# This is a simple arithmetic expression to multiply then add integers.\n",
    "\n",
    "(3*4)+5"
   ]
  },
  {
   "cell_type": "code",
   "execution_count": 3,
   "id": "7cff5d92-e842-461a-b790-70612e684e4e",
   "metadata": {
    "tags": []
   },
   "outputs": [
    {
     "data": {
      "text/plain": [
       "3.3333333333333335"
      ]
     },
     "execution_count": 3,
     "metadata": {},
     "output_type": "execute_result"
    }
   ],
   "source": [
    "# This will convert 200 minutes to hours by dividing by 60\n",
    "\n",
    "200/60"
   ]
  },
  {
   "cell_type": "markdown",
   "id": "49427a35-4de8-4b4d-8118-5e609924a262",
   "metadata": {},
   "source": [
    "## Author:\n",
    "Kuchipudi R Shadrach Sudhen"
   ]
  },
  {
   "cell_type": "code",
   "execution_count": null,
   "id": "ab4d6033-d0a8-4bd5-b34c-d30ed9000496",
   "metadata": {},
   "outputs": [],
   "source": []
  }
 ],
 "metadata": {
  "kernelspec": {
   "display_name": "Python",
   "language": "python",
   "name": "conda-env-python-py"
  },
  "language_info": {
   "codemirror_mode": {
    "name": "ipython",
    "version": 3
   },
   "file_extension": ".py",
   "mimetype": "text/x-python",
   "name": "python",
   "nbconvert_exporter": "python",
   "pygments_lexer": "ipython3",
   "version": "3.7.12"
  }
 },
 "nbformat": 4,
 "nbformat_minor": 5
}
